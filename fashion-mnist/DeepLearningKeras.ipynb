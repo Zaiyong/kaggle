{
 "cells": [
  {
   "cell_type": "code",
   "execution_count": 1,
   "metadata": {
    "collapsed": false
   },
   "outputs": [
    {
     "name": "stderr",
     "output_type": "stream",
     "text": [
      "Using TensorFlow backend.\n"
     ]
    }
   ],
   "source": [
    "from keras.models import Sequential\n",
    "from keras.layers import Conv2D, MaxPooling2D,Activation, Dropout, Flatten, Dense\n",
    "from keras.utils import to_categorical"
   ]
  },
  {
   "cell_type": "code",
   "execution_count": 2,
   "metadata": {
    "collapsed": true
   },
   "outputs": [],
   "source": [
    "import pandas as pd"
   ]
  },
  {
   "cell_type": "code",
   "execution_count": 3,
   "metadata": {
    "collapsed": true
   },
   "outputs": [],
   "source": [
    "import numpy as np"
   ]
  },
  {
   "cell_type": "code",
   "execution_count": 4,
   "metadata": {
    "collapsed": true
   },
   "outputs": [],
   "source": [
    "from sklearn.model_selection import train_test_split"
   ]
  },
  {
   "cell_type": "code",
   "execution_count": 5,
   "metadata": {
    "collapsed": true
   },
   "outputs": [],
   "source": [
    "def split_train_test(trian_file,test_file,image_dim):\n",
    "    train_valid_df=pd.read_csv(trian_file)\n",
    "    test_df=pd.read_csv(test_file)\n",
    "    train_df,valid_df=train_test_split(train_valid_df,\n",
    "                                       test_size=0.2, \n",
    "                                       random_state=13,\n",
    "                                       stratify=list(train_valid_df['label']))\n",
    "    train_pixels=train_df.iloc[:,1:].as_matrix()\n",
    "    valid_pixels=valid_df.iloc[:,1:].as_matrix()\n",
    "    test_pixels=test_df.iloc[:,1:].as_matrix()\n",
    "    train_labels=to_categorical(train_df['label'])\n",
    "    valid_labels=to_categorical(valid_df['label'])\n",
    "    test_labels=to_categorical(test_df['label'])\n",
    "    train_greys=train_pixels.reshape(train_pixels.shape[0],image_dim[0],image_dim[1],1)\n",
    "    valid_greys=valid_pixels.reshape(valid_pixels.shape[0],image_dim[0],image_dim[1],1)\n",
    "    test_greys=test_pixels.reshape(test_pixels.shape[0],image_dim[0],image_dim[1],1)\n",
    "    return train_greys,train_labels,valid_greys,valid_labels,test_greys,test_labels"
   ]
  },
  {
   "cell_type": "code",
   "execution_count": 6,
   "metadata": {
    "collapsed": false
   },
   "outputs": [],
   "source": [
    "train_greys,train_labels,valid_greys,valid_labels,test_greys,test_labels=split_train_test(\n",
    "    './fashion-mnist_train.csv',\n",
    "    './fashion-mnist_test.csv',[28,28])"
   ]
  },
  {
   "cell_type": "code",
   "execution_count": 7,
   "metadata": {
    "collapsed": true
   },
   "outputs": [],
   "source": [
    "train_greys = train_greys.astype('float32')\n",
    "test_greys = test_greys.astype('float32')\n",
    "valid_greys = valid_greys.astype('float32')\n"
   ]
  },
  {
   "cell_type": "code",
   "execution_count": 8,
   "metadata": {
    "collapsed": true
   },
   "outputs": [],
   "source": [
    "train_greys /= 255\n",
    "test_greys /= 255\n",
    "valid_greys /= 25"
   ]
  },
  {
   "cell_type": "code",
   "execution_count": 10,
   "metadata": {
    "collapsed": false
   },
   "outputs": [],
   "source": [
    "model=Sequential()\n",
    "model.add(Conv2D(32, (3, 3),input_shape=(28,28,1),kernel_initializer='he_normal',activation='relu', padding='same', name='block1_conv1'))\n",
    "model.add(Conv2D(32, (3, 3), activation='relu', padding='same', name='block1_conv2'))\n",
    "model.add(MaxPooling2D((2, 2), strides=(2, 2), name='block1_pool'))\n",
    "model.add(Conv2D(64, (3, 3), activation='relu', padding='same', name='block2_conv1'))\n",
    "model.add(Conv2D(64, (3, 3), activation='relu', padding='same', name='block2_conv2'))\n",
    "model.add(MaxPooling2D((2, 2), strides=(2, 2), name='block2_pool'))\n",
    "model.add(Flatten(name='flatten'))\n",
    "model.add(Dropout(0.05))\n",
    "model.add(Dense(128,activation='relu',name='dense'))\n",
    "model.add(Dense(10,activation='softmax',name='prediction'))\n",
    "model.compile(loss='categorical_crossentropy',\n",
    "              optimizer='rmsprop',\n",
    "              metrics=['accuracy'])"
   ]
  },
  {
   "cell_type": "code",
   "execution_count": null,
   "metadata": {
    "collapsed": true
   },
   "outputs": [],
   "source": [
    "model.fit(train_greys, train_labels,batch_size=128,epochs=10,verbose=1,validation_data=(valid_greys, valid_labels))"
   ]
  }
 ],
 "metadata": {
  "kernelspec": {
   "display_name": "Python 3",
   "language": "python",
   "name": "python3"
  },
  "language_info": {
   "codemirror_mode": {
    "name": "ipython",
    "version": 3
   },
   "file_extension": ".py",
   "mimetype": "text/x-python",
   "name": "python",
   "nbconvert_exporter": "python",
   "pygments_lexer": "ipython3",
   "version": "3.6.2"
  }
 },
 "nbformat": 4,
 "nbformat_minor": 2
}

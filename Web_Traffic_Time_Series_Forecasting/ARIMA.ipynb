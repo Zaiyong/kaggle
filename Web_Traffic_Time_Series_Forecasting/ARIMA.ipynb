{
 "cells": [
  {
   "cell_type": "code",
   "execution_count": 1,
   "metadata": {},
   "outputs": [],
   "source": [
    "import pandas as pd\n",
    "import numpy as np\n",
    "import matplotlib.pyplot as plt\n",
    "import re"
   ]
  },
  {
   "cell_type": "code",
   "execution_count": 2,
   "metadata": {},
   "outputs": [],
   "source": [
    "train = pd.read_csv('train_1.csv').fillna(0)"
   ]
  },
  {
   "cell_type": "code",
   "execution_count": 4,
   "metadata": {},
   "outputs": [],
   "source": [
    "def get_language(page):\n",
    "    res = re.search('[a-z][a-z].wikipedia.org',page)\n",
    "    if res:\n",
    "        return res[0][0:2]\n",
    "    return 'na'"
   ]
  },
  {
   "cell_type": "code",
   "execution_count": 5,
   "metadata": {},
   "outputs": [],
   "source": [
    "train['lang'] = train.Page.map(get_language)"
   ]
  },
  {
   "cell_type": "code",
   "execution_count": 6,
   "metadata": {},
   "outputs": [],
   "source": [
    "lang_sets = {}\n",
    "lang_sets['en'] = train[train.lang=='en'].iloc[:,0:-1]\n",
    "lang_sets['ja'] = train[train.lang=='ja'].iloc[:,0:-1]\n",
    "lang_sets['de'] = train[train.lang=='de'].iloc[:,0:-1]\n",
    "lang_sets['na'] = train[train.lang=='na'].iloc[:,0:-1]\n",
    "lang_sets['fr'] = train[train.lang=='fr'].iloc[:,0:-1]\n",
    "lang_sets['zh'] = train[train.lang=='zh'].iloc[:,0:-1]\n",
    "lang_sets['ru'] = train[train.lang=='ru'].iloc[:,0:-1]\n",
    "lang_sets['es'] = train[train.lang=='es'].iloc[:,0:-1]\n",
    "\n",
    "sums = {}\n",
    "for key in lang_sets:\n",
    "    sums[key] = lang_sets[key].iloc[:,1:].sum(axis=0) / lang_sets[key].shape[0]"
   ]
  },
  {
   "cell_type": "code",
   "execution_count": 7,
   "metadata": {},
   "outputs": [
    {
     "name": "stdout",
     "output_type": "stream",
     "text": [
      "en\n",
      "                                                    Page         total\n",
      "38573   Main_Page_en.wikipedia.org_all-access_all-agents  1.206618e+10\n",
      "9774       Main_Page_en.wikipedia.org_desktop_all-agents  8.774497e+09\n",
      "74114   Main_Page_en.wikipedia.org_mobile-web_all-agents  3.153985e+09\n",
      "39180  Special:Search_en.wikipedia.org_all-access_all...  1.304079e+09\n",
      "10403  Special:Search_en.wikipedia.org_desktop_all-ag...  1.011848e+09\n",
      "74690  Special:Search_en.wikipedia.org_mobile-web_all...  2.921628e+08\n",
      "39172  Special:Book_en.wikipedia.org_all-access_all-a...  1.339931e+08\n",
      "10399   Special:Book_en.wikipedia.org_desktop_all-agents  1.332859e+08\n",
      "33644       Main_Page_en.wikipedia.org_all-access_spider  1.290204e+08\n",
      "34257  Special:Search_en.wikipedia.org_all-access_spider  1.243102e+08\n",
      "\n",
      "\n",
      "\n",
      "ja\n",
      "                                                     Page        total\n",
      "120336      メインページ_ja.wikipedia.org_all-access_all-agents  210753795.0\n",
      "86431          メインページ_ja.wikipedia.org_desktop_all-agents  134147415.0\n",
      "123025       特別:検索_ja.wikipedia.org_all-access_all-agents   70316929.0\n",
      "89202           特別:検索_ja.wikipedia.org_desktop_all-agents   69215206.0\n",
      "57309       メインページ_ja.wikipedia.org_mobile-web_all-agents   66459122.0\n",
      "119609    特別:最近の更新_ja.wikipedia.org_all-access_all-agents   17662791.0\n",
      "88897        特別:最近の更新_ja.wikipedia.org_desktop_all-agents   17627621.0\n",
      "119625        真田信繁_ja.wikipedia.org_all-access_all-agents   10793039.0\n",
      "123292  特別:外部リンク検索_ja.wikipedia.org_all-access_all-agents   10331191.0\n",
      "89463      特別:外部リンク検索_ja.wikipedia.org_desktop_all-agents   10327917.0\n",
      "\n",
      "\n",
      "\n",
      "de\n",
      "                                                     Page         total\n",
      "139119  Wikipedia:Hauptseite_de.wikipedia.org_all-acce...  1.603934e+09\n",
      "116196  Wikipedia:Hauptseite_de.wikipedia.org_mobile-w...  1.112689e+09\n",
      "67049   Wikipedia:Hauptseite_de.wikipedia.org_desktop_...  4.269924e+08\n",
      "140151  Spezial:Suche_de.wikipedia.org_all-access_all-...  2.234259e+08\n",
      "66736   Spezial:Suche_de.wikipedia.org_desktop_all-agents  2.196368e+08\n",
      "140147  Spezial:Anmelden_de.wikipedia.org_all-access_a...  4.029181e+07\n",
      "138800  Special:Search_de.wikipedia.org_all-access_all...  3.988154e+07\n",
      "68104   Spezial:Anmelden_de.wikipedia.org_desktop_all-...  3.535523e+07\n",
      "68511   Special:MyPage/toolserverhelferleinconfig.js_d...  3.258496e+07\n",
      "137765  Hauptseite_de.wikipedia.org_all-access_all-agents  3.173246e+07\n",
      "\n",
      "\n",
      "\n",
      "na\n",
      "                                                    Page       total\n",
      "45071  Special:Search_commons.wikimedia.org_all-acces...  67150638.0\n",
      "81665  Special:Search_commons.wikimedia.org_desktop_a...  63349756.0\n",
      "45056  Special:CreateAccount_commons.wikimedia.org_al...  53795386.0\n",
      "45028  Main_Page_commons.wikimedia.org_all-access_all...  52732292.0\n",
      "81644  Special:CreateAccount_commons.wikimedia.org_de...  48061029.0\n",
      "81610  Main_Page_commons.wikimedia.org_desktop_all-ag...  39160923.0\n",
      "46078  Special:RecentChangesLinked_commons.wikimedia....  28306336.0\n",
      "45078  Special:UploadWizard_commons.wikimedia.org_all...  23733805.0\n",
      "81671  Special:UploadWizard_commons.wikimedia.org_des...  22008544.0\n",
      "82680  Special:RecentChangesLinked_commons.wikimedia....  21915202.0\n",
      "\n",
      "\n",
      "\n",
      "fr\n",
      "                                                     Page        total\n",
      "27330   Wikipédia:Accueil_principal_fr.wikipedia.org_a...  868480667.0\n",
      "55104   Wikipédia:Accueil_principal_fr.wikipedia.org_m...  611302821.0\n",
      "7344    Wikipédia:Accueil_principal_fr.wikipedia.org_d...  239589012.0\n",
      "27825   Spécial:Recherche_fr.wikipedia.org_all-access_...   95666374.0\n",
      "8221    Spécial:Recherche_fr.wikipedia.org_desktop_all...   88448938.0\n",
      "26500   Sp?cial:Search_fr.wikipedia.org_all-access_all...   76194568.0\n",
      "6978    Sp?cial:Search_fr.wikipedia.org_desktop_all-ag...   76185450.0\n",
      "131296  Wikipédia:Accueil_principal_fr.wikipedia.org_a...   63860799.0\n",
      "26993   Organisme_de_placement_collectif_en_valeurs_mo...   36647929.0\n",
      "7213    Organisme_de_placement_collectif_en_valeurs_mo...   36624145.0\n",
      "\n",
      "\n",
      "\n",
      "zh\n",
      "                                                     Page        total\n",
      "28727   Wikipedia:首页_zh.wikipedia.org_all-access_all-a...  123694312.0\n",
      "61350    Wikipedia:首页_zh.wikipedia.org_desktop_all-agents   66435641.0\n",
      "105844  Wikipedia:首页_zh.wikipedia.org_mobile-web_all-a...   50887429.0\n",
      "28728   Special:搜索_zh.wikipedia.org_all-access_all-agents   48678124.0\n",
      "61351      Special:搜索_zh.wikipedia.org_desktop_all-agents   48203843.0\n",
      "28089   Running_Man_zh.wikipedia.org_all-access_all-ag...   11485845.0\n",
      "30960   Special:链接搜索_zh.wikipedia.org_all-access_all-a...   10320403.0\n",
      "63510    Special:链接搜索_zh.wikipedia.org_desktop_all-agents   10320336.0\n",
      "60711     Running_Man_zh.wikipedia.org_desktop_all-agents    7968443.0\n",
      "30446    瑯琊榜_(電視劇)_zh.wikipedia.org_all-access_all-agents    5891589.0\n",
      "\n",
      "\n",
      "\n",
      "ru\n",
      "                                                     Page         total\n",
      "99322   Заглавная_страница_ru.wikipedia.org_all-access...  1.086019e+09\n",
      "103123  Заглавная_страница_ru.wikipedia.org_desktop_al...  7.428800e+08\n",
      "17670   Заглавная_страница_ru.wikipedia.org_mobile-web...  3.279304e+08\n",
      "99537   Служебная:Поиск_ru.wikipedia.org_all-access_al...  1.037643e+08\n",
      "103349  Служебная:Поиск_ru.wikipedia.org_desktop_all-a...  9.866417e+07\n",
      "100414  Служебная:Ссылки_сюда_ru.wikipedia.org_all-acc...  2.510200e+07\n",
      "104195  Служебная:Ссылки_сюда_ru.wikipedia.org_desktop...  2.505816e+07\n",
      "97670   Special:Search_ru.wikipedia.org_all-access_all...  2.437457e+07\n",
      "101457  Special:Search_ru.wikipedia.org_desktop_all-ag...  2.195847e+07\n",
      "98301   Служебная:Вход_ru.wikipedia.org_all-access_all...  1.216259e+07\n",
      "\n",
      "\n",
      "\n",
      "es\n",
      "                                                     Page        total\n",
      "92205   Wikipedia:Portada_es.wikipedia.org_all-access_...  751492304.0\n",
      "95855   Wikipedia:Portada_es.wikipedia.org_mobile-web_...  565077372.0\n",
      "90810   Especial:Buscar_es.wikipedia.org_all-access_al...  194491245.0\n",
      "71199   Wikipedia:Portada_es.wikipedia.org_desktop_all...  165439354.0\n",
      "69939   Especial:Buscar_es.wikipedia.org_desktop_all-a...  160431271.0\n",
      "94389   Especial:Buscar_es.wikipedia.org_mobile-web_al...   34059966.0\n",
      "90813   Especial:Entrar_es.wikipedia.org_all-access_al...   33983359.0\n",
      "143440  Wikipedia:Portada_es.wikipedia.org_all-access_...   31615409.0\n",
      "93094   Lali_Espósito_es.wikipedia.org_all-access_all-...   26602688.0\n",
      "69942   Especial:Entrar_es.wikipedia.org_desktop_all-a...   25747141.0\n",
      "\n",
      "\n",
      "\n"
     ]
    }
   ],
   "source": [
    "npages = 5\n",
    "top_pages = {}\n",
    "for key in lang_sets:\n",
    "    print(key)\n",
    "    sum_set = pd.DataFrame(lang_sets[key][['Page']])\n",
    "    sum_set['total'] = lang_sets[key].sum(axis=1)\n",
    "    sum_set = sum_set.sort_values('total',ascending=False)\n",
    "    print(sum_set.head(10))\n",
    "    top_pages[key] = sum_set.index[0]\n",
    "    print('\\n\\n')"
   ]
  },
  {
   "cell_type": "code",
   "execution_count": 20,
   "metadata": {},
   "outputs": [
    {
     "data": {
      "text/plain": [
       "(145063, 552)"
      ]
     },
     "execution_count": 20,
     "metadata": {},
     "output_type": "execute_result"
    }
   ],
   "source": [
    "train.shape"
   ]
  },
  {
   "cell_type": "code",
   "execution_count": 9,
   "metadata": {},
   "outputs": [
    {
     "name": "stdout",
     "output_type": "stream",
     "text": [
      "Counter({'en': 24108, 'ja': 20431, 'de': 18547, 'na': 17855, 'fr': 17802, 'zh': 17229, 'ru': 15022, 'es': 14069})\n"
     ]
    }
   ],
   "source": [
    "from collections import Counter\n",
    "\n",
    "print(Counter(train.lang))"
   ]
  },
  {
   "cell_type": "code",
   "execution_count": 10,
   "metadata": {},
   "outputs": [
    {
     "name": "stderr",
     "output_type": "stream",
     "text": [
      "/Users/401384/anaconda/lib/python3.6/site-packages/statsmodels/compat/pandas.py:56: FutureWarning: The pandas.core.datetools module is deprecated and will be removed in a future version. Please use the pandas.tseries module instead.\n",
      "  from pandas.core import datetools\n"
     ]
    },
    {
     "name": "stdout",
     "output_type": "stream",
     "text": [
      "en\n"
     ]
    },
    {
     "data": {
      "image/png": "[encoded data removed]",
      "text/plain": [
       "<matplotlib.figure.Figure at 0x10caa4c88>"
      ]
     },
     "metadata": {},
     "output_type": "display_data"
    }
   ],
   "source": [
    "from statsmodels.tsa.arima_model import ARIMA\n",
    "import warnings\n",
    "\n",
    "cols = train.columns[1:-1]\n",
    "key='en'\n",
    "print(key)\n",
    "data = np.array(train.loc[top_pages[key],cols],'f')\n",
    "result = None\n",
    "with warnings.catch_warnings():\n",
    "    warnings.filterwarnings('ignore')\n",
    "    try:\n",
    "        arima = ARIMA(data,[2,1,4])\n",
    "        result = arima.fit(disp=False)\n",
    "    except:\n",
    "        try:\n",
    "            arima = ARIMA(data,[2,1,2])\n",
    "            result = arima.fit(disp=False)\n",
    "        except:\n",
    "            print(train.loc[top_pages[key],'Page'])\n",
    "            print('\\tARIMA failed')\n",
    "#print(result.params)\n",
    "pred = result.predict(2,599,typ='levels')\n",
    "x = [i for i in range(600)]\n",
    "i=0\n",
    "\n",
    "plt.plot(x[2:len(data)],data[2:] ,label='Data')\n",
    "plt.plot(x[2:],pred,label='ARIMA Model')\n",
    "plt.title(train.loc[top_pages[key],'Page'])\n",
    "plt.xlabel('Days')\n",
    "plt.ylabel('Views')\n",
    "plt.legend()\n",
    "plt.show()"
   ]
  },
  {
   "cell_type": "code",
   "execution_count": 15,
   "metadata": {},
   "outputs": [
    {
     "name": "stdout",
     "output_type": "stream",
     "text": [
      "en\n"
     ]
    }
   ],
   "source": [
    "key='en'\n",
    "print(key)\n",
    "data = np.array(train.loc[top_pages[key],cols],'f')\n",
    "result = None"
   ]
  },
  {
   "cell_type": "code",
   "execution_count": 17,
   "metadata": {},
   "outputs": [],
   "source": [
    "arima = ARIMA(data,[2,1,2])\n",
    "result = arima.fit(disp=False)"
   ]
  },
  {
   "cell_type": "code",
   "execution_count": 19,
   "metadata": {},
   "outputs": [],
   "source": [
    "pred = result.predict(2,599,typ='levels')"
   ]
  },
  {
   "cell_type": "code",
   "execution_count": 34,
   "metadata": {},
   "outputs": [
    {
     "data": {
      "text/plain": [
       "<statsmodels.tsa.arima_model.ARIMAResultsWrapper at 0x12c9a7c18>"
      ]
     },
     "execution_count": 34,
     "metadata": {},
     "output_type": "execute_result"
    }
   ],
   "source": [
    "result"
   ]
  },
  {
   "cell_type": "code",
   "execution_count": 21,
   "metadata": {},
   "outputs": [
    {
     "data": {
      "text/plain": [
       "(550,)"
      ]
     },
     "execution_count": 21,
     "metadata": {},
     "output_type": "execute_result"
    }
   ],
   "source": [
    "data.shape"
   ]
  },
  {
   "cell_type": "code",
   "execution_count": null,
   "metadata": {},
   "outputs": [],
   "source": []
  }
 ],
 "metadata": {
  "kernelspec": {
   "display_name": "Python 3",
   "language": "python",
   "name": "python3"
  },
  "language_info": {
   "codemirror_mode": {
    "name": "ipython",
    "version": 3
   },
   "file_extension": ".py",
   "mimetype": "text/x-python",
   "name": "python",
   "nbconvert_exporter": "python",
   "pygments_lexer": "ipython3",
   "version": "3.6.2"
  }
 },
 "nbformat": 4,
 "nbformat_minor": 2
}

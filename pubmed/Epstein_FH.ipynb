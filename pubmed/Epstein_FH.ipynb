{
 "cells": [
  {
   "cell_type": "code",
   "execution_count": 41,
   "metadata": {
    "collapsed": false
   },
   "outputs": [],
   "source": [
    "from bs4 import BeautifulSoup"
   ]
  },
  {
   "cell_type": "code",
   "execution_count": 42,
   "metadata": {
    "collapsed": false
   },
   "outputs": [],
   "source": [
    "soup = BeautifulSoup(open('./input.html').read(), 'html.parser')"
   ]
  },
  {
   "cell_type": "code",
   "execution_count": null,
   "metadata": {
    "collapsed": true
   },
   "outputs": [],
   "source": [
    "for supp in soup.find_all('div',{ \"class\" : \"supp\" }):\n",
    "    authors=\" \".join(supp.find('p',{'class':'desc'}).text.split())\n",
    "    journal=supp.find('span',{ \"class\" : \"jrnl\" })['title']\n",
    "    date=supp.find('p',{'class':'details'}).text.split('. ')[1][0:4]\n",
    "    if authors.startswith('Epstein FH'):\n",
    "        pos='First Author'\n",
    "    elif authors.endswith('Epstein FH.'):\n",
    "        pos='Corresponding Author'\n",
    "    else:\n",
    "        pos='other'\n",
    "    print(journal.strip(),'|',pos,'|',date.strip(),'|',authors)"
   ]
  }
 ],
 "metadata": {
  "kernelspec": {
   "display_name": "Python 3",
   "language": "python",
   "name": "python3"
  },
  "language_info": {
   "codemirror_mode": {
    "name": "ipython",
    "version": 3
   },
   "file_extension": ".py",
   "mimetype": "text/x-python",
   "name": "python",
   "nbconvert_exporter": "python",
   "pygments_lexer": "ipython3",
   "version": "3.6.2"
  }
 },
 "nbformat": 4,
 "nbformat_minor": 2
}
